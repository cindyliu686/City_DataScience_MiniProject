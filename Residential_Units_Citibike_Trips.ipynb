{
 "cells": [
  {
   "cell_type": "markdown",
   "metadata": {},
   "source": [
    "# Goal: Assess whether the number of Units per zip code is a good predictor of citibike trips originating from that zip code."
   ]
  },
  {
   "cell_type": "code",
   "execution_count": 1,
   "metadata": {
    "collapsed": false
   },
   "outputs": [
    {
     "name": "stdout",
     "output_type": "stream",
     "text": [
      "Populating the interactive namespace from numpy and matplotlib\n"
     ]
    }
   ],
   "source": [
    "import numpy as np\n",
    "from numpy import random\n",
    "import pandas as pd\n",
    "import pylab as pl\n",
    "%pylab inline\n",
    "\n",
    "import scipy\n",
    "from scipy import stats\n",
    "\n",
    "import statsmodels.formula.api as smf"
   ]
  },
  {
   "cell_type": "code",
   "execution_count": 2,
   "metadata": {
    "collapsed": true
   },
   "outputs": [],
   "source": [
    "import json\n",
    "import urllib2"
   ]
  },
  {
   "cell_type": "code",
   "execution_count": 3,
   "metadata": {
    "collapsed": true
   },
   "outputs": [],
   "source": [
    "# Load station id json file\n",
    "url = 'http://cosmo.nyu.edu/~fb55/UI_CUSP_2015/data/stationzips.json'\n",
    "request = urllib2.urlopen(url)\n",
    "sid_to_zip = json.load(request)"
   ]
  },
  {
   "cell_type": "code",
   "execution_count": 4,
   "metadata": {
    "collapsed": true
   },
   "outputs": [],
   "source": [
    "# Load Citibike Data of two months\n",
    "df_jan = pd.read_csv('201501-citibike-tripdata.csv')\n",
    "df_aug = pd.read_csv('201508-citibike-tripdata.csv')"
   ]
  },
  {
   "cell_type": "code",
   "execution_count": 5,
   "metadata": {
    "collapsed": false
   },
   "outputs": [
    {
     "data": {
      "text/plain": [
       "Index([u'tripduration', u'starttime', u'stoptime', u'start station id',\n",
       "       u'start station name', u'start station latitude',\n",
       "       u'start station longitude', u'end station id', u'end station name',\n",
       "       u'end station latitude', u'end station longitude', u'bikeid',\n",
       "       u'usertype', u'birth year', u'gender'],\n",
       "      dtype='object')"
      ]
     },
     "execution_count": 5,
     "metadata": {},
     "output_type": "execute_result"
    }
   ],
   "source": [
    "my_rides_dataframe = pd.concat([df_jan,df_aug])\n",
    "my_rides_dataframe.columns"
   ]
  },
  {
   "cell_type": "code",
   "execution_count": 6,
   "metadata": {
    "collapsed": false
   },
   "outputs": [],
   "source": [
    "# Load the MapPluto of Manhattan\n",
    "import geopandas as gp\n",
    "my_building_dataframe = gp.GeoDataFrame.from_file(\"Manhattan/MNMapPLUTO.shp\")"
   ]
  },
  {
   "cell_type": "code",
   "execution_count": 8,
   "metadata": {
    "collapsed": false
   },
   "outputs": [
    {
     "data": {
      "text/plain": [
       "Index([    u'APPBBL',    u'APPDate',    u'Address', u'AllZoning1',\n",
       "       u'AllZoning2', u'AreaSource', u'AssessLand',  u'AssessTot',\n",
       "              u'BBL',   u'BldgArea',  u'BldgClass',  u'BldgDepth',\n",
       "        u'BldgFront',      u'Block',   u'BoroCode',    u'Borough',\n",
       "         u'BsmtCode',  u'BuiltCode',   u'BuiltFAR',     u'CB2010',\n",
       "               u'CD',     u'CT2010',    u'ComArea',    u'CommFAR',\n",
       "          u'CondoNo',    u'Council',  u'EDesigNum',  u'Easements',\n",
       "       u'ExemptLand',  u'ExemptTot',        u'Ext',   u'FacilFAR',\n",
       "       u'FactryArea',   u'FireComp', u'GarageArea', u'HealthArea',\n",
       "         u'HistDist', u'IrrLotCode',    u'LandUse',   u'Landmark',\n",
       "              u'Lot',    u'LotArea',   u'LotDepth',   u'LotFront',\n",
       "          u'LotType',  u'LtdHeight', u'MAPPLUTO_F',   u'NumBldgs',\n",
       "        u'NumFloors', u'OfficeArea',  u'OtherArea',   u'Overlay1',\n",
       "         u'Overlay2',  u'OwnerName',  u'OwnerType', u'PLUTOMapID',\n",
       "       u'PolicePrct',   u'ProxCode',    u'ResArea',   u'ResidFAR',\n",
       "       u'RetailArea', u'SHAPE_Area', u'SHAPE_Leng',    u'SPDist1',\n",
       "          u'SPDist2',    u'Sanborn', u'SchoolDist',  u'SplitZone',\n",
       "        u'StrgeArea',     u'TaxMap',  u'Tract2010',   u'UnitsRes',\n",
       "       u'UnitsTotal',    u'Version',     u'XCoord',     u'YCoord',\n",
       "       u'YearAlter1', u'YearAlter2',  u'YearBuilt',     u'ZMCode',\n",
       "          u'ZipCode',  u'ZoneDist1',  u'ZoneDist2',  u'ZoneDist3',\n",
       "        u'ZoneDist4',    u'ZoneMap',   u'geometry'],\n",
       "      dtype='object')"
      ]
     },
     "execution_count": 8,
     "metadata": {},
     "output_type": "execute_result"
    }
   ],
   "source": [
    "my_building_dataframe.columns"
   ]
  },
  {
   "cell_type": "code",
   "execution_count": 11,
   "metadata": {
    "collapsed": false
   },
   "outputs": [],
   "source": [
    "# Create the column of 'zipcode'\n",
    "my_rides_dataframe['ZipCode'] = [sid_to_zip[str(i)] for i in my_rides_dataframe['start station id']]"
   ]
  },
  {
   "cell_type": "code",
   "execution_count": 12,
   "metadata": {
    "collapsed": true
   },
   "outputs": [],
   "source": [
    "# Count trips by zip code\n",
    "myarray1 = (my_rides_dataframe['start station id'].groupby(my_rides_dataframe['ZipCode']).count())"
   ]
  },
  {
   "cell_type": "code",
   "execution_count": 13,
   "metadata": {
    "collapsed": false
   },
   "outputs": [],
   "source": [
    "# Sum Residential units by zip code\n",
    "myarray2 = (my_building_dataframe['UnitsRes'].groupby(my_building_dataframe['ZipCode']).sum())"
   ]
  },
  {
   "cell_type": "code",
   "execution_count": 14,
   "metadata": {
    "collapsed": false
   },
   "outputs": [],
   "source": [
    "mynewdf = pd.concat([myarray1,myarray2], axis=1)"
   ]
  },
  {
   "cell_type": "code",
   "execution_count": 15,
   "metadata": {
    "collapsed": false
   },
   "outputs": [],
   "source": [
    "mynewdf.columns = ['Number of Trips', 'Residential Units']"
   ]
  },
  {
   "cell_type": "code",
   "execution_count": 16,
   "metadata": {
    "collapsed": false
   },
   "outputs": [
    {
     "data": {
      "text/plain": [
       "Number of Trips      38\n",
       "Residential Units    54\n",
       "dtype: int64"
      ]
     },
     "execution_count": 16,
     "metadata": {},
     "output_type": "execute_result"
    }
   ],
   "source": [
    "mynewdf.count()"
   ]
  },
  {
   "cell_type": "code",
   "execution_count": 17,
   "metadata": {
    "collapsed": false
   },
   "outputs": [
    {
     "data": {
      "text/plain": [
       "<matplotlib.axes._subplots.AxesSubplot at 0x1777fdf50>"
      ]
     },
     "execution_count": 17,
     "metadata": {},
     "output_type": "execute_result"
    },
    {
     "data": {
      "image/png": "[encoded data removed]",
      "text/plain": [
       "<matplotlib.figure.Figure at 0x109816ad0>"
      ]
     },
     "metadata": {},
     "output_type": "display_data"
    }
   ],
   "source": [
    "# Test scatterplot\n",
    "mynewdf.plot(kind='scatter',x='Residential Units',y='Number of Trips')"
   ]
  },
  {
   "cell_type": "code",
   "execution_count": 18,
   "metadata": {
    "collapsed": false
   },
   "outputs": [
    {
     "name": "stdout",
     "output_type": "stream",
     "text": [
      "1.55681226397 22318.6979278\n"
     ]
    }
   ],
   "source": [
    "import statsmodels.api as sm\n",
    "# Line fit\n",
    "X = mynewdf['Residential Units']\n",
    "Y = mynewdf['Number of Trips']\n",
    "model1 = sm.OLS(Y, sm.add_constant(X), missing='drop').fit()  \n",
    "print model1.params[1], model1.params[0]"
   ]
  },
  {
   "cell_type": "code",
   "execution_count": 19,
   "metadata": {
    "collapsed": false
   },
   "outputs": [
    {
     "data": {
      "text/html": [
       "<table class=\"simpletable\">\n",
       "<caption>OLS Regression Results</caption>\n",
       "<tr>\n",
       "  <th>Dep. Variable:</th>     <td>Number of Trips</td> <th>  R-squared:         </th> <td>   0.248</td>\n",
       "</tr>\n",
       "<tr>\n",
       "  <th>Model:</th>                   <td>OLS</td>       <th>  Adj. R-squared:    </th> <td>   0.215</td>\n",
       "</tr>\n",
       "<tr>\n",
       "  <th>Method:</th>             <td>Least Squares</td>  <th>  F-statistic:       </th> <td>   7.569</td>\n",
       "</tr>\n",
       "<tr>\n",
       "  <th>Date:</th>             <td>Wed, 21 Oct 2015</td> <th>  Prob (F-statistic):</th>  <td>0.0114</td> \n",
       "</tr>\n",
       "<tr>\n",
       "  <th>Time:</th>                 <td>22:07:16</td>     <th>  Log-Likelihood:    </th> <td> -296.89</td>\n",
       "</tr>\n",
       "<tr>\n",
       "  <th>No. Observations:</th>      <td>    25</td>      <th>  AIC:               </th> <td>   597.8</td>\n",
       "</tr>\n",
       "<tr>\n",
       "  <th>Df Residuals:</th>          <td>    23</td>      <th>  BIC:               </th> <td>   600.2</td>\n",
       "</tr>\n",
       "<tr>\n",
       "  <th>Df Model:</th>              <td>     1</td>      <th>                     </th>     <td> </td>   \n",
       "</tr>\n",
       "<tr>\n",
       "  <th>Covariance Type:</th>      <td>nonrobust</td>    <th>                     </th>     <td> </td>   \n",
       "</tr>\n",
       "</table>\n",
       "<table class=\"simpletable\">\n",
       "<tr>\n",
       "          <td></td>             <th>coef</th>     <th>std err</th>      <th>t</th>      <th>P>|t|</th> <th>[95.0% Conf. Int.]</th> \n",
       "</tr>\n",
       "<tr>\n",
       "  <th>const</th>             <td> 2.232e+04</td> <td> 1.34e+04</td> <td>    1.669</td> <td> 0.109</td> <td>-5340.011     5e+04</td>\n",
       "</tr>\n",
       "<tr>\n",
       "  <th>Residential Units</th> <td>    1.5568</td> <td>    0.566</td> <td>    2.751</td> <td> 0.011</td> <td>    0.386     2.727</td>\n",
       "</tr>\n",
       "</table>\n",
       "<table class=\"simpletable\">\n",
       "<tr>\n",
       "  <th>Omnibus:</th>       <td> 1.003</td> <th>  Durbin-Watson:     </th> <td>   1.358</td>\n",
       "</tr>\n",
       "<tr>\n",
       "  <th>Prob(Omnibus):</th> <td> 0.606</td> <th>  Jarque-Bera (JB):  </th> <td>   0.234</td>\n",
       "</tr>\n",
       "<tr>\n",
       "  <th>Skew:</th>          <td>-0.189</td> <th>  Prob(JB):          </th> <td>   0.890</td>\n",
       "</tr>\n",
       "<tr>\n",
       "  <th>Kurtosis:</th>      <td> 3.285</td> <th>  Cond. No.          </th> <td>4.36e+04</td>\n",
       "</tr>\n",
       "</table>"
      ],
      "text/plain": [
       "<class 'statsmodels.iolib.summary.Summary'>\n",
       "\"\"\"\n",
       "                            OLS Regression Results                            \n",
       "==============================================================================\n",
       "Dep. Variable:        Number of Trips   R-squared:                       0.248\n",
       "Model:                            OLS   Adj. R-squared:                  0.215\n",
       "Method:                 Least Squares   F-statistic:                     7.569\n",
       "Date:                Wed, 21 Oct 2015   Prob (F-statistic):             0.0114\n",
       "Time:                        22:07:16   Log-Likelihood:                -296.89\n",
       "No. Observations:                  25   AIC:                             597.8\n",
       "Df Residuals:                      23   BIC:                             600.2\n",
       "Df Model:                           1                                         \n",
       "Covariance Type:            nonrobust                                         \n",
       "=====================================================================================\n",
       "                        coef    std err          t      P>|t|      [95.0% Conf. Int.]\n",
       "-------------------------------------------------------------------------------------\n",
       "const              2.232e+04   1.34e+04      1.669      0.109     -5340.011     5e+04\n",
       "Residential Units     1.5568      0.566      2.751      0.011         0.386     2.727\n",
       "==============================================================================\n",
       "Omnibus:                        1.003   Durbin-Watson:                   1.358\n",
       "Prob(Omnibus):                  0.606   Jarque-Bera (JB):                0.234\n",
       "Skew:                          -0.189   Prob(JB):                        0.890\n",
       "Kurtosis:                       3.285   Cond. No.                     4.36e+04\n",
       "==============================================================================\n",
       "\n",
       "Warnings:\n",
       "[1] Standard Errors assume that the covariance matrix of the errors is correctly specified.\n",
       "[2] The condition number is large, 4.36e+04. This might indicate that there are\n",
       "strong multicollinearity or other numerical problems.\n",
       "\"\"\""
      ]
     },
     "execution_count": 19,
     "metadata": {},
     "output_type": "execute_result"
    }
   ],
   "source": [
    "model1.summary()"
   ]
  },
  {
   "cell_type": "code",
   "execution_count": 48,
   "metadata": {
    "collapsed": false,
    "scrolled": true
   },
   "outputs": [
    {
     "data": {
      "image/png": "[encoded data removed]",
      "text/plain": [
       "<matplotlib.figure.Figure at 0x16d500850>"
      ]
     },
     "metadata": {},
     "output_type": "display_data"
    }
   ],
   "source": [
    "# Plot line fit \n",
    "pl.figure(figsize=(8, 6))\n",
    "pl.scatter(X,Y)\n",
    "pl.xlabel('Residential Units')\n",
    "pl.ylabel('Number of Trips')\n",
    "pl.plot(X,X*model1.params[1]+model1.params[0],color='red')\n",
    "pl.legend()"
   ]
  },
  {
   "cell_type": "markdown",
   "metadata": {},
   "source": [
    "# The first degree linear model seems to be able to fit the points but there are outliers."
   ]
  },
  {
   "cell_type": "code",
   "execution_count": 22,
   "metadata": {
    "collapsed": true
   },
   "outputs": [],
   "source": [
    "# Clean the nan value data \n",
    "df_notnan = mynewdf.dropna(axis=0)"
   ]
  },
  {
   "cell_type": "code",
   "execution_count": 23,
   "metadata": {
    "collapsed": false
   },
   "outputs": [],
   "source": [
    "# 2 degree linear fit\n",
    "curvemodel = smf.ols(formula = \"y ~ x + I((x)) + I((x)**2) \", \n",
    "        data={'x':df_notnan['Residential Units'],'y': df_notnan['Number of Trips']})\n",
    "model2 = curvemodel.fit()"
   ]
  },
  {
   "cell_type": "code",
   "execution_count": 24,
   "metadata": {
    "collapsed": false
   },
   "outputs": [
    {
     "data": {
      "text/html": [
       "<table class=\"simpletable\">\n",
       "<caption>OLS Regression Results</caption>\n",
       "<tr>\n",
       "  <th>Dep. Variable:</th>            <td>y</td>        <th>  R-squared:         </th> <td>   0.289</td>\n",
       "</tr>\n",
       "<tr>\n",
       "  <th>Model:</th>                   <td>OLS</td>       <th>  Adj. R-squared:    </th> <td>   0.224</td>\n",
       "</tr>\n",
       "<tr>\n",
       "  <th>Method:</th>             <td>Least Squares</td>  <th>  F-statistic:       </th> <td>   4.471</td>\n",
       "</tr>\n",
       "<tr>\n",
       "  <th>Date:</th>             <td>Wed, 21 Oct 2015</td> <th>  Prob (F-statistic):</th>  <td>0.0235</td> \n",
       "</tr>\n",
       "<tr>\n",
       "  <th>Time:</th>                 <td>22:07:52</td>     <th>  Log-Likelihood:    </th> <td> -296.18</td>\n",
       "</tr>\n",
       "<tr>\n",
       "  <th>No. Observations:</th>      <td>    25</td>      <th>  AIC:               </th> <td>   598.4</td>\n",
       "</tr>\n",
       "<tr>\n",
       "  <th>Df Residuals:</th>          <td>    22</td>      <th>  BIC:               </th> <td>   602.0</td>\n",
       "</tr>\n",
       "<tr>\n",
       "  <th>Df Model:</th>              <td>     2</td>      <th>                     </th>     <td> </td>   \n",
       "</tr>\n",
       "<tr>\n",
       "  <th>Covariance Type:</th>      <td>nonrobust</td>    <th>                     </th>     <td> </td>   \n",
       "</tr>\n",
       "</table>\n",
       "<table class=\"simpletable\">\n",
       "<tr>\n",
       "       <td></td>          <th>coef</th>     <th>std err</th>      <th>t</th>      <th>P>|t|</th> <th>[95.0% Conf. Int.]</th> \n",
       "</tr>\n",
       "<tr>\n",
       "  <th>Intercept</th>   <td> 7564.4328</td> <td> 1.86e+04</td> <td>    0.406</td> <td> 0.688</td> <td> -3.1e+04  4.62e+04</td>\n",
       "</tr>\n",
       "<tr>\n",
       "  <th>x</th>           <td>    2.0036</td> <td>    1.117</td> <td>    1.793</td> <td> 0.087</td> <td>   -0.313     4.320</td>\n",
       "</tr>\n",
       "<tr>\n",
       "  <th>I((x))</th>      <td>    2.0028</td> <td>    1.119</td> <td>    1.790</td> <td> 0.087</td> <td>   -0.317     4.323</td>\n",
       "</tr>\n",
       "<tr>\n",
       "  <th>I((x) ** 2)</th> <td>-6.067e-05</td> <td> 5.36e-05</td> <td>   -1.132</td> <td> 0.270</td> <td>   -0.000  5.05e-05</td>\n",
       "</tr>\n",
       "</table>\n",
       "<table class=\"simpletable\">\n",
       "<tr>\n",
       "  <th>Omnibus:</th>       <td> 1.095</td> <th>  Durbin-Watson:     </th> <td>   1.336</td>\n",
       "</tr>\n",
       "<tr>\n",
       "  <th>Prob(Omnibus):</th> <td> 0.578</td> <th>  Jarque-Bera (JB):  </th> <td>   0.269</td>\n",
       "</tr>\n",
       "<tr>\n",
       "  <th>Skew:</th>          <td>-0.196</td> <th>  Prob(JB):          </th> <td>   0.874</td>\n",
       "</tr>\n",
       "<tr>\n",
       "  <th>Kurtosis:</th>      <td> 3.324</td> <th>  Cond. No.          </th> <td>7.20e+18</td>\n",
       "</tr>\n",
       "</table>"
      ],
      "text/plain": [
       "<class 'statsmodels.iolib.summary.Summary'>\n",
       "\"\"\"\n",
       "                            OLS Regression Results                            \n",
       "==============================================================================\n",
       "Dep. Variable:                      y   R-squared:                       0.289\n",
       "Model:                            OLS   Adj. R-squared:                  0.224\n",
       "Method:                 Least Squares   F-statistic:                     4.471\n",
       "Date:                Wed, 21 Oct 2015   Prob (F-statistic):             0.0235\n",
       "Time:                        22:07:52   Log-Likelihood:                -296.18\n",
       "No. Observations:                  25   AIC:                             598.4\n",
       "Df Residuals:                      22   BIC:                             602.0\n",
       "Df Model:                           2                                         \n",
       "Covariance Type:            nonrobust                                         \n",
       "===============================================================================\n",
       "                  coef    std err          t      P>|t|      [95.0% Conf. Int.]\n",
       "-------------------------------------------------------------------------------\n",
       "Intercept    7564.4328   1.86e+04      0.406      0.688      -3.1e+04  4.62e+04\n",
       "x               2.0036      1.117      1.793      0.087        -0.313     4.320\n",
       "I((x))          2.0028      1.119      1.790      0.087        -0.317     4.323\n",
       "I((x) ** 2) -6.067e-05   5.36e-05     -1.132      0.270        -0.000  5.05e-05\n",
       "==============================================================================\n",
       "Omnibus:                        1.095   Durbin-Watson:                   1.336\n",
       "Prob(Omnibus):                  0.578   Jarque-Bera (JB):                0.269\n",
       "Skew:                          -0.196   Prob(JB):                        0.874\n",
       "Kurtosis:                       3.324   Cond. No.                     7.20e+18\n",
       "==============================================================================\n",
       "\n",
       "Warnings:\n",
       "[1] Standard Errors assume that the covariance matrix of the errors is correctly specified.\n",
       "[2] The smallest eigenvalue is 2.88e-19. This might indicate that there are\n",
       "strong multicollinearity problems or that the design matrix is singular.\n",
       "\"\"\""
      ]
     },
     "execution_count": 24,
     "metadata": {},
     "output_type": "execute_result"
    }
   ],
   "source": [
    "model2.summary()"
   ]
  },
  {
   "cell_type": "code",
   "execution_count": 25,
   "metadata": {
    "collapsed": false
   },
   "outputs": [
    {
     "data": {
      "text/plain": [
       "[<matplotlib.lines.Line2D at 0x1ee5d0f90>]"
      ]
     },
     "execution_count": 25,
     "metadata": {},
     "output_type": "execute_result"
    },
    {
     "data": {
      "image/png": "[encoded data removed]",
      "text/plain": [
       "<matplotlib.figure.Figure at 0x1a2021ad0>"
      ]
     },
     "metadata": {},
     "output_type": "display_data"
    }
   ],
   "source": [
    "pl.figure(figsize=(8, 6))\n",
    "pl.scatter(df_notnan['Residential Units'], df_notnan['Number of Trips'])\n",
    "pl.xlabel(\"Residential Units\", fontsize=22)\n",
    "pl.ylabel(\"Number of Trips\", fontsize=22)\n",
    "plot(df_notnan['Residential Units'], model2.predict(),'k.',c='r')"
   ]
  },
  {
   "cell_type": "markdown",
   "metadata": {},
   "source": [
    "## The 2 degree model seems not to fit the points well."
   ]
  },
  {
   "cell_type": "code",
   "execution_count": 26,
   "metadata": {
    "collapsed": false
   },
   "outputs": [
    {
     "name": "stdout",
     "output_type": "stream",
     "text": [
      "1.41524749551\n"
     ]
    }
   ],
   "source": [
    "Likelihood_1 = model1.llf\n",
    "Likelihood_2 = model2.llf\n",
    "lr = -2*(Likelihood_1 - Likelihood_2)\n",
    "print lr"
   ]
  },
  {
   "cell_type": "markdown",
   "metadata": {},
   "source": [
    "## Test Result\n",
    "DOF = 1\n",
    "Null Hypothesis: the line fit is better then 2 degree polynomial fit\n",
    "The critical value for chi2 with 1 degree of freedom at alpha = 0.05 is 3.84 so that the lr value is not bigger than the critical value.\n",
    "Therefore, we cannot reject the null hypothesis. The line fit is better."
   ]
  },
  {
   "cell_type": "code",
   "execution_count": 27,
   "metadata": {
    "collapsed": false
   },
   "outputs": [],
   "source": [
    "# Remove the extreme values\n",
    "mynewdf_v2 = df_notnan[(df_notnan['Residential Units']>0)&(df_notnan['Residential Units']<40000)&(df_notnan['Number of Trips']>3000)]                                     "
   ]
  },
  {
   "cell_type": "code",
   "execution_count": 28,
   "metadata": {
    "collapsed": true
   },
   "outputs": [],
   "source": [
    "X2 = mynewdf_v2['Residential Units']\n",
    "Y2 = mynewdf_v2['Number of Trips']"
   ]
  },
  {
   "cell_type": "code",
   "execution_count": 29,
   "metadata": {
    "collapsed": false
   },
   "outputs": [
    {
     "name": "stdout",
     "output_type": "stream",
     "text": [
      "2.37478208616 16979.3905512\n"
     ]
    }
   ],
   "source": [
    "# Line fit after removing the leverage points\n",
    "model1_v2 = sm.OLS(Y2, sm.add_constant(X2), missing='drop').fit()  \n",
    "print model1_v2.params[1], model1_v2.params[0]"
   ]
  },
  {
   "cell_type": "code",
   "execution_count": 47,
   "metadata": {
    "collapsed": false
   },
   "outputs": [
    {
     "data": {
      "image/png": "[encoded data removed]",
      "text/plain": [
       "<matplotlib.figure.Figure at 0x163087e90>"
      ]
     },
     "metadata": {},
     "output_type": "display_data"
    }
   ],
   "source": [
    "pl.figure(figsize=(8, 6))\n",
    "pl.scatter(X2,Y2)\n",
    "pl.xlabel('Residential Units')\n",
    "pl.ylabel('Number of Trips')\n",
    "pl.plot(X2,X2*model1_v2.params[1]+model1_v2.params[0],color='red')\n",
    "pl.legend()"
   ]
  },
  {
   "cell_type": "code",
   "execution_count": 31,
   "metadata": {
    "collapsed": true
   },
   "outputs": [],
   "source": [
    "# 2 degree linear fit after removing the leverage points\n",
    "model2_v2 = smf.ols(formula = \"y ~ x + I((x)) + I((x)**2) \", \n",
    "        data={'x':X2,'y': Y2}).fit()"
   ]
  },
  {
   "cell_type": "code",
   "execution_count": 32,
   "metadata": {
    "collapsed": false
   },
   "outputs": [
    {
     "data": {
      "text/plain": [
       "[<matplotlib.lines.Line2D at 0x1f677c110>]"
      ]
     },
     "execution_count": 32,
     "metadata": {},
     "output_type": "execute_result"
    },
    {
     "data": {
      "image/png": "[encoded data removed]",
      "text/plain": [
       "<matplotlib.figure.Figure at 0x1f2de8190>"
      ]
     },
     "metadata": {},
     "output_type": "display_data"
    }
   ],
   "source": [
    "pl.figure(figsize=(8, 6))\n",
    "pl.scatter(X2, Y2)\n",
    "pl.xlabel(\"Residential Units\", fontsize=22)\n",
    "pl.ylabel(\"Number of Trips\", fontsize=22)\n",
    "plot(X2, model2_v2.predict(),'k.',c='r')"
   ]
  },
  {
   "cell_type": "code",
   "execution_count": 33,
   "metadata": {
    "collapsed": false
   },
   "outputs": [
    {
     "name": "stdout",
     "output_type": "stream",
     "text": [
      "1.41524749551\n"
     ]
    }
   ],
   "source": [
    "Likelihood_1_v2 = model1_v2.llf\n",
    "Likelihood_2_v2 = model2_v2.llf\n",
    "lr_v2 = -2*(Likelihood_1_v2 - Likelihood_2_v2)\n",
    "print lr"
   ]
  },
  {
   "cell_type": "markdown",
   "metadata": {},
   "source": [
    "## Result\n",
    "After removing the outlier points, the line fit is still better than the 2 degree model fit given the lr value is not larger than the critical value 3.84."
   ]
  },
  {
   "cell_type": "markdown",
   "metadata": {},
   "source": [
    "# Some Findings\n",
    "From the 1 degree linear model, we can see that the more residential units per zip code, the more number of trips per zip code. As shown in the model summary below, the p-value of the coefficient is so low that it is in high confidence to say that the residential units' number and the trips' number are correlated."
   ]
  },
  {
   "cell_type": "code",
   "execution_count": 34,
   "metadata": {
    "collapsed": false
   },
   "outputs": [
    {
     "data": {
      "text/html": [
       "<table class=\"simpletable\">\n",
       "<caption>OLS Regression Results</caption>\n",
       "<tr>\n",
       "  <th>Dep. Variable:</th>     <td>Number of Trips</td> <th>  R-squared:         </th> <td>   0.594</td>\n",
       "</tr>\n",
       "<tr>\n",
       "  <th>Model:</th>                   <td>OLS</td>       <th>  Adj. R-squared:    </th> <td>   0.573</td>\n",
       "</tr>\n",
       "<tr>\n",
       "  <th>Method:</th>             <td>Least Squares</td>  <th>  F-statistic:       </th> <td>   27.84</td>\n",
       "</tr>\n",
       "<tr>\n",
       "  <th>Date:</th>             <td>Wed, 21 Oct 2015</td> <th>  Prob (F-statistic):</th> <td>4.31e-05</td>\n",
       "</tr>\n",
       "<tr>\n",
       "  <th>Time:</th>                 <td>22:08:19</td>     <th>  Log-Likelihood:    </th> <td> -241.41</td>\n",
       "</tr>\n",
       "<tr>\n",
       "  <th>No. Observations:</th>      <td>    21</td>      <th>  AIC:               </th> <td>   486.8</td>\n",
       "</tr>\n",
       "<tr>\n",
       "  <th>Df Residuals:</th>          <td>    19</td>      <th>  BIC:               </th> <td>   488.9</td>\n",
       "</tr>\n",
       "<tr>\n",
       "  <th>Df Model:</th>              <td>     1</td>      <th>                     </th>     <td> </td>   \n",
       "</tr>\n",
       "<tr>\n",
       "  <th>Covariance Type:</th>      <td>nonrobust</td>    <th>                     </th>     <td> </td>   \n",
       "</tr>\n",
       "</table>\n",
       "<table class=\"simpletable\">\n",
       "<tr>\n",
       "          <td></td>             <th>coef</th>     <th>std err</th>      <th>t</th>      <th>P>|t|</th> <th>[95.0% Conf. Int.]</th> \n",
       "</tr>\n",
       "<tr>\n",
       "  <th>const</th>             <td> 1.698e+04</td> <td> 1.02e+04</td> <td>    1.669</td> <td> 0.112</td> <td>-4318.055  3.83e+04</td>\n",
       "</tr>\n",
       "<tr>\n",
       "  <th>Residential Units</th> <td>    2.3748</td> <td>    0.450</td> <td>    5.276</td> <td> 0.000</td> <td>    1.433     3.317</td>\n",
       "</tr>\n",
       "</table>\n",
       "<table class=\"simpletable\">\n",
       "<tr>\n",
       "  <th>Omnibus:</th>       <td> 2.007</td> <th>  Durbin-Watson:     </th> <td>   1.905</td>\n",
       "</tr>\n",
       "<tr>\n",
       "  <th>Prob(Omnibus):</th> <td> 0.367</td> <th>  Jarque-Bera (JB):  </th> <td>   1.223</td>\n",
       "</tr>\n",
       "<tr>\n",
       "  <th>Skew:</th>          <td> 0.591</td> <th>  Prob(JB):          </th> <td>   0.542</td>\n",
       "</tr>\n",
       "<tr>\n",
       "  <th>Kurtosis:</th>      <td> 2.962</td> <th>  Cond. No.          </th> <td>4.22e+04</td>\n",
       "</tr>\n",
       "</table>"
      ],
      "text/plain": [
       "<class 'statsmodels.iolib.summary.Summary'>\n",
       "\"\"\"\n",
       "                            OLS Regression Results                            \n",
       "==============================================================================\n",
       "Dep. Variable:        Number of Trips   R-squared:                       0.594\n",
       "Model:                            OLS   Adj. R-squared:                  0.573\n",
       "Method:                 Least Squares   F-statistic:                     27.84\n",
       "Date:                Wed, 21 Oct 2015   Prob (F-statistic):           4.31e-05\n",
       "Time:                        22:08:19   Log-Likelihood:                -241.41\n",
       "No. Observations:                  21   AIC:                             486.8\n",
       "Df Residuals:                      19   BIC:                             488.9\n",
       "Df Model:                           1                                         \n",
       "Covariance Type:            nonrobust                                         \n",
       "=====================================================================================\n",
       "                        coef    std err          t      P>|t|      [95.0% Conf. Int.]\n",
       "-------------------------------------------------------------------------------------\n",
       "const              1.698e+04   1.02e+04      1.669      0.112     -4318.055  3.83e+04\n",
       "Residential Units     2.3748      0.450      5.276      0.000         1.433     3.317\n",
       "==============================================================================\n",
       "Omnibus:                        2.007   Durbin-Watson:                   1.905\n",
       "Prob(Omnibus):                  0.367   Jarque-Bera (JB):                1.223\n",
       "Skew:                           0.591   Prob(JB):                        0.542\n",
       "Kurtosis:                       2.962   Cond. No.                     4.22e+04\n",
       "==============================================================================\n",
       "\n",
       "Warnings:\n",
       "[1] Standard Errors assume that the covariance matrix of the errors is correctly specified.\n",
       "[2] The condition number is large, 4.22e+04. This might indicate that there are\n",
       "strong multicollinearity or other numerical problems.\n",
       "\"\"\""
      ]
     },
     "execution_count": 34,
     "metadata": {},
     "output_type": "execute_result"
    }
   ],
   "source": [
    "model1_v2.summary()"
   ]
  },
  {
   "cell_type": "markdown",
   "metadata": {},
   "source": [
    "# How to improve the test: "
   ]
  },
  {
   "cell_type": "markdown",
   "metadata": {},
   "source": [
    "The test could be improved as there might be some noise factors to affect the result. Season could be a noise factor as people usually ride bikes more in the summer than winter. Also, it would be good to consider the public transit system's condition as it is possible that areas with more residential units could have more developed public transportation which encourage people to ride less. Furthermore, the demographics of the residential units area could also have impact. For example, some areas which have younger population would see more riders than areas with older population."
   ]
  },
  {
   "cell_type": "markdown",
   "metadata": {},
   "source": [
    "# Analysis for Brooklyn"
   ]
  },
  {
   "cell_type": "code",
   "execution_count": 7,
   "metadata": {
    "collapsed": false
   },
   "outputs": [],
   "source": [
    "# Load the MapPluto of Brooklyn\n",
    "bkl_building_dataframe = gp.GeoDataFrame.from_file(\"Brooklyn/BKMapPLUTO.shp\")"
   ]
  },
  {
   "cell_type": "code",
   "execution_count": 9,
   "metadata": {
    "collapsed": true
   },
   "outputs": [],
   "source": [
    "# Sum Residential units by zip code\n",
    "myarray3 = (bkl_building_dataframe['UnitsRes'].groupby(bkl_building_dataframe['ZipCode']).sum())"
   ]
  },
  {
   "cell_type": "code",
   "execution_count": 36,
   "metadata": {
    "collapsed": false
   },
   "outputs": [],
   "source": [
    "mynewdf_bk = pd.concat([myarray1,myarray3], axis=1)"
   ]
  },
  {
   "cell_type": "code",
   "execution_count": 37,
   "metadata": {
    "collapsed": false
   },
   "outputs": [
    {
     "data": {
      "text/plain": [
       "Number of Trips      38\n",
       "Residential Units    41\n",
       "dtype: int64"
      ]
     },
     "execution_count": 37,
     "metadata": {},
     "output_type": "execute_result"
    }
   ],
   "source": [
    "mynewdf_bk.columns = ['Number of Trips', 'Residential Units']\n",
    "mynewdf_bk.count()"
   ]
  },
  {
   "cell_type": "code",
   "execution_count": 41,
   "metadata": {
    "collapsed": false
   },
   "outputs": [
    {
     "data": {
      "text/plain": [
       "<matplotlib.axes._subplots.AxesSubplot at 0x1a2021850>"
      ]
     },
     "execution_count": 41,
     "metadata": {},
     "output_type": "execute_result"
    },
    {
     "data": {
      "image/png": "[encoded data removed]",
      "text/plain": [
       "<matplotlib.figure.Figure at 0x1a07ead90>"
      ]
     },
     "metadata": {},
     "output_type": "display_data"
    }
   ],
   "source": [
    "# Clean the nan value data \n",
    "df_bk_notnan = mynewdf_bk.dropna(axis=0)\n",
    "# Test scatterplot\n",
    "df_bk_notnan.plot(kind='scatter',x='Residential Units',y='Number of Trips')"
   ]
  },
  {
   "cell_type": "code",
   "execution_count": 42,
   "metadata": {
    "collapsed": true
   },
   "outputs": [],
   "source": [
    "X_bk = df_bk_notnan['Residential Units']\n",
    "Y_bk = df_bk_notnan['Number of Trips']"
   ]
  },
  {
   "cell_type": "code",
   "execution_count": 46,
   "metadata": {
    "collapsed": false
   },
   "outputs": [
    {
     "name": "stdout",
     "output_type": "stream",
     "text": [
      "2.37478208616 16979.3905512\n"
     ]
    },
    {
     "data": {
      "image/png": "[encoded data removed]",
      "text/plain": [
       "<matplotlib.figure.Figure at 0x165ee07d0>"
      ]
     },
     "metadata": {},
     "output_type": "display_data"
    }
   ],
   "source": [
    "# Line fit for Brooklyn\n",
    "model1_bk = sm.OLS(Y_bk, sm.add_constant(X_bk)).fit()  \n",
    "print model1_v2.params[1], model1_v2.params[0]\n",
    "pl.figure(figsize=(8, 6))\n",
    "pl.scatter(X_bk,Y_bk)\n",
    "pl.xlabel('Residential Units')\n",
    "pl.ylabel('Number of Trips')\n",
    "pl.plot(X_bk,X_bk*model1_bk.params[1]+model1_bk.params[0],color='red')\n",
    "pl.legend()"
   ]
  },
  {
   "cell_type": "code",
   "execution_count": 44,
   "metadata": {
    "collapsed": false
   },
   "outputs": [
    {
     "data": {
      "text/plain": [
       "[<matplotlib.lines.Line2D at 0x196fd9d90>]"
      ]
     },
     "execution_count": 44,
     "metadata": {},
     "output_type": "execute_result"
    },
    {
     "data": {
      "image/png": "[encoded data removed]",
      "text/plain": [
       "<matplotlib.figure.Figure at 0x225165a50>"
      ]
     },
     "metadata": {},
     "output_type": "display_data"
    }
   ],
   "source": [
    "# 2 degree linear fit after removing the leverage points\n",
    "model2_bk = smf.ols(formula = \"y ~ x + I((x)) + I((x)**2) \", \n",
    "        data={'x':X_bk,'y': Y_bk}).fit()\n",
    "pl.figure(figsize=(8, 6))\n",
    "pl.scatter(X_bk, Y_bk)\n",
    "pl.xlabel(\"Residential Units\", fontsize=22)\n",
    "pl.ylabel(\"Number of Trips\", fontsize=22)\n",
    "plot(X_bk,model2_bk.predict(),'k.',c='r')"
   ]
  },
  {
   "cell_type": "code",
   "execution_count": 45,
   "metadata": {
    "collapsed": false
   },
   "outputs": [
    {
     "name": "stdout",
     "output_type": "stream",
     "text": [
      "4.86773939436\n"
     ]
    }
   ],
   "source": [
    "Likelihood_1_bk = model1_bk.llf\n",
    "Likelihood_2_bk = model2_bk.llf\n",
    "lr_bk = -2*(Likelihood_1_bk - Likelihood_2_bk)\n",
    "print lr_bk"
   ]
  },
  {
   "cell_type": "markdown",
   "metadata": {},
   "source": [
    "## Test Result\n",
    "The lr result is 4.8677 which is higher than the critical value 3.84 which is for chi2 with 1 degree of freedom at the siginificance level of 0.05).This rejects the null hypothesis. Therefore, the 2 degree model fits better than the 1 degree model for Brooklyn. This contrasts with Manhattan."
   ]
  }
 ],
 "metadata": {
  "kernelspec": {
   "display_name": "Python 2",
   "language": "python",
   "name": "python2"
  },
  "language_info": {
   "codemirror_mode": {
    "name": "ipython",
    "version": 2
   },
   "file_extension": ".py",
   "mimetype": "text/x-python",
   "name": "python",
   "nbconvert_exporter": "python",
   "pygments_lexer": "ipython2",
   "version": "2.7.10"
  }
 },
 "nbformat": 4,
 "nbformat_minor": 0
}
