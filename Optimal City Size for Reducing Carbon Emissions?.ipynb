{
 "cells": [
  {
   "cell_type": "markdown",
   "metadata": {},
   "source": [
    "# Goal: Exploring if there is an optimal city size for curbing carbon emissions."
   ]
  },
  {
   "cell_type": "markdown",
   "metadata": {},
   "source": [
    "   Urban areas have huge impact on the energy consumption and carbon emission. It has\n",
    "been widely accepted that cities have scale of economies because the high concentration of\n",
    "people and the sharing of infrastructure would enable urban efficiencies.<br /> Research from Boston University and UC Berkeley have confirmed this.<br/>\n",
    "<br/>\n",
    "   This project is going to explore the relationship between population size\n",
    "and carbon emission by comparing different U.S. cities and try to answer the question: are denser cities more efficient in carbon reduction than less dense cities?"
   ]
  },
  {
   "cell_type": "code",
   "execution_count": 58,
   "metadata": {
    "collapsed": true
   },
   "outputs": [],
   "source": [
    "import pandas as pd\n",
    "import numpy as np\n",
    "import matplotlib.pyplot as plt\n",
    "import scipy.stats\n",
    "import statsmodels.api as sm\n",
    "import statsmodels.formula.api as smf\n",
    "%matplotlib inline"
   ]
  },
  {
   "cell_type": "code",
   "execution_count": 2,
   "metadata": {
    "collapsed": false
   },
   "outputs": [],
   "source": [
    "# Import county to msa data\n",
    "County_to_Msa = pd.read_csv('CBSA03_MSA99.csv')"
   ]
  },
  {
   "cell_type": "code",
   "execution_count": 3,
   "metadata": {
    "collapsed": false
   },
   "outputs": [
    {
     "data": {
      "text/html": [
       "<div>\n",
       "<table border=\"1\" class=\"dataframe\">\n",
       "  <thead>\n",
       "    <tr style=\"text-align: right;\">\n",
       "      <th></th>\n",
       "      <th>FIPS</th>\n",
       "      <th>State</th>\n",
       "      <th>County_Name</th>\n",
       "      <th>County_LSAD</th>\n",
       "      <th>Note</th>\n",
       "      <th>CBSA_2003_Code</th>\n",
       "      <th>CBSA_2003_Title</th>\n",
       "      <th>CBSA_2003_LSAD</th>\n",
       "    </tr>\n",
       "  </thead>\n",
       "  <tbody>\n",
       "    <tr>\n",
       "      <th>0</th>\n",
       "      <td>48059</td>\n",
       "      <td>TX</td>\n",
       "      <td>Callahan</td>\n",
       "      <td>County</td>\n",
       "      <td>NaN</td>\n",
       "      <td>10180</td>\n",
       "      <td>Abilene, TX</td>\n",
       "      <td>Metro Area</td>\n",
       "    </tr>\n",
       "    <tr>\n",
       "      <th>1</th>\n",
       "      <td>48253</td>\n",
       "      <td>TX</td>\n",
       "      <td>Jones</td>\n",
       "      <td>County</td>\n",
       "      <td>NaN</td>\n",
       "      <td>10180</td>\n",
       "      <td>Abilene, TX</td>\n",
       "      <td>Metro Area</td>\n",
       "    </tr>\n",
       "    <tr>\n",
       "      <th>2</th>\n",
       "      <td>48441</td>\n",
       "      <td>TX</td>\n",
       "      <td>Taylor</td>\n",
       "      <td>County</td>\n",
       "      <td>NaN</td>\n",
       "      <td>10180</td>\n",
       "      <td>Abilene, TX</td>\n",
       "      <td>Metro Area</td>\n",
       "    </tr>\n",
       "    <tr>\n",
       "      <th>3</th>\n",
       "      <td>72003</td>\n",
       "      <td>PR</td>\n",
       "      <td>Aguada</td>\n",
       "      <td>Municipio</td>\n",
       "      <td>NaN</td>\n",
       "      <td>10380</td>\n",
       "      <td>Aguadilla-Isabela-San Sebasti�n, PR</td>\n",
       "      <td>Metro Area</td>\n",
       "    </tr>\n",
       "    <tr>\n",
       "      <th>4</th>\n",
       "      <td>72005</td>\n",
       "      <td>PR</td>\n",
       "      <td>Aguadilla</td>\n",
       "      <td>Municipio</td>\n",
       "      <td>NaN</td>\n",
       "      <td>10380</td>\n",
       "      <td>Aguadilla-Isabela-San Sebasti�n, PR</td>\n",
       "      <td>Metro Area</td>\n",
       "    </tr>\n",
       "  </tbody>\n",
       "</table>\n",
       "</div>"
      ],
      "text/plain": [
       "    FIPS State County_Name County_LSAD  Note  CBSA_2003_Code  \\\n",
       "0  48059    TX    Callahan      County   NaN           10180   \n",
       "1  48253    TX       Jones      County   NaN           10180   \n",
       "2  48441    TX      Taylor      County   NaN           10180   \n",
       "3  72003    PR      Aguada   Municipio   NaN           10380   \n",
       "4  72005    PR   Aguadilla   Municipio   NaN           10380   \n",
       "\n",
       "                       CBSA_2003_Title CBSA_2003_LSAD  \n",
       "0                          Abilene, TX     Metro Area  \n",
       "1                          Abilene, TX     Metro Area  \n",
       "2                          Abilene, TX     Metro Area  \n",
       "3  Aguadilla-Isabela-San Sebasti�n, PR     Metro Area  \n",
       "4  Aguadilla-Isabela-San Sebasti�n, PR     Metro Area  "
      ]
     },
     "execution_count": 3,
     "metadata": {},
     "output_type": "execute_result"
    }
   ],
   "source": [
    "County_to_Msa.head()"
   ]
  },
  {
   "cell_type": "code",
   "execution_count": 4,
   "metadata": {
    "collapsed": false
   },
   "outputs": [],
   "source": [
    "County_to_Msa = County_to_Msa.drop(County_to_Msa.columns[[3, 4]], axis=1)"
   ]
  },
  {
   "cell_type": "code",
   "execution_count": 5,
   "metadata": {
    "collapsed": false
   },
   "outputs": [
    {
     "data": {
      "text/html": [
       "<div>\n",
       "<table border=\"1\" class=\"dataframe\">\n",
       "  <thead>\n",
       "    <tr style=\"text-align: right;\">\n",
       "      <th></th>\n",
       "      <th>FIPS</th>\n",
       "      <th>State</th>\n",
       "      <th>County_Name</th>\n",
       "      <th>CBSA_2003_Code</th>\n",
       "      <th>CBSA_2003_Title</th>\n",
       "      <th>CBSA_2003_LSAD</th>\n",
       "    </tr>\n",
       "  </thead>\n",
       "  <tbody>\n",
       "    <tr>\n",
       "      <th>0</th>\n",
       "      <td>48059</td>\n",
       "      <td>TX</td>\n",
       "      <td>Callahan</td>\n",
       "      <td>10180</td>\n",
       "      <td>Abilene, TX</td>\n",
       "      <td>Metro Area</td>\n",
       "    </tr>\n",
       "    <tr>\n",
       "      <th>1</th>\n",
       "      <td>48253</td>\n",
       "      <td>TX</td>\n",
       "      <td>Jones</td>\n",
       "      <td>10180</td>\n",
       "      <td>Abilene, TX</td>\n",
       "      <td>Metro Area</td>\n",
       "    </tr>\n",
       "    <tr>\n",
       "      <th>2</th>\n",
       "      <td>48441</td>\n",
       "      <td>TX</td>\n",
       "      <td>Taylor</td>\n",
       "      <td>10180</td>\n",
       "      <td>Abilene, TX</td>\n",
       "      <td>Metro Area</td>\n",
       "    </tr>\n",
       "    <tr>\n",
       "      <th>3</th>\n",
       "      <td>72003</td>\n",
       "      <td>PR</td>\n",
       "      <td>Aguada</td>\n",
       "      <td>10380</td>\n",
       "      <td>Aguadilla-Isabela-San Sebasti�n, PR</td>\n",
       "      <td>Metro Area</td>\n",
       "    </tr>\n",
       "    <tr>\n",
       "      <th>4</th>\n",
       "      <td>72005</td>\n",
       "      <td>PR</td>\n",
       "      <td>Aguadilla</td>\n",
       "      <td>10380</td>\n",
       "      <td>Aguadilla-Isabela-San Sebasti�n, PR</td>\n",
       "      <td>Metro Area</td>\n",
       "    </tr>\n",
       "  </tbody>\n",
       "</table>\n",
       "</div>"
      ],
      "text/plain": [
       "    FIPS State County_Name  CBSA_2003_Code  \\\n",
       "0  48059    TX    Callahan           10180   \n",
       "1  48253    TX       Jones           10180   \n",
       "2  48441    TX      Taylor           10180   \n",
       "3  72003    PR      Aguada           10380   \n",
       "4  72005    PR   Aguadilla           10380   \n",
       "\n",
       "                       CBSA_2003_Title CBSA_2003_LSAD  \n",
       "0                          Abilene, TX     Metro Area  \n",
       "1                          Abilene, TX     Metro Area  \n",
       "2                          Abilene, TX     Metro Area  \n",
       "3  Aguadilla-Isabela-San Sebasti�n, PR     Metro Area  \n",
       "4  Aguadilla-Isabela-San Sebasti�n, PR     Metro Area  "
      ]
     },
     "execution_count": 5,
     "metadata": {},
     "output_type": "execute_result"
    }
   ],
   "source": [
    "County_to_Msa.head()"
   ]
  },
  {
   "cell_type": "code",
   "execution_count": 6,
   "metadata": {
    "collapsed": true
   },
   "outputs": [],
   "source": [
    "# Import total carbon emission data by county of 2002\n",
    "Carbon_Emission_County = pd.read_csv('CarbonEmissionCounty.csv')"
   ]
  },
  {
   "cell_type": "code",
   "execution_count": 7,
   "metadata": {
    "collapsed": false
   },
   "outputs": [
    {
     "data": {
      "text/html": [
       "<div>\n",
       "<table border=\"1\" class=\"dataframe\">\n",
       "  <thead>\n",
       "    <tr style=\"text-align: right;\">\n",
       "      <th></th>\n",
       "      <th>State</th>\n",
       "      <th>County</th>\n",
       "      <th>FIPS</th>\n",
       "      <th>Total_Carbon_Emission</th>\n",
       "      <th>Pop_2000</th>\n",
       "      <th>Total_PerCapita</th>\n",
       "    </tr>\n",
       "  </thead>\n",
       "  <tbody>\n",
       "    <tr>\n",
       "      <th>0</th>\n",
       "      <td>AL</td>\n",
       "      <td>Autauga</td>\n",
       "      <td>1001</td>\n",
       "      <td>0.256167</td>\n",
       "      <td>43671</td>\n",
       "      <td>5.865829</td>\n",
       "    </tr>\n",
       "    <tr>\n",
       "      <th>1</th>\n",
       "      <td>AL</td>\n",
       "      <td>Baldwin</td>\n",
       "      <td>1003</td>\n",
       "      <td>0.450031</td>\n",
       "      <td>140415</td>\n",
       "      <td>3.205008</td>\n",
       "    </tr>\n",
       "    <tr>\n",
       "      <th>2</th>\n",
       "      <td>AL</td>\n",
       "      <td>Barbour</td>\n",
       "      <td>1005</td>\n",
       "      <td>0.099370</td>\n",
       "      <td>29038</td>\n",
       "      <td>3.422079</td>\n",
       "    </tr>\n",
       "    <tr>\n",
       "      <th>3</th>\n",
       "      <td>AL</td>\n",
       "      <td>Bibb</td>\n",
       "      <td>1007</td>\n",
       "      <td>0.045945</td>\n",
       "      <td>20826</td>\n",
       "      <td>2.206140</td>\n",
       "    </tr>\n",
       "    <tr>\n",
       "      <th>4</th>\n",
       "      <td>AL</td>\n",
       "      <td>Blount</td>\n",
       "      <td>1009</td>\n",
       "      <td>0.114776</td>\n",
       "      <td>51024</td>\n",
       "      <td>2.249456</td>\n",
       "    </tr>\n",
       "  </tbody>\n",
       "</table>\n",
       "</div>"
      ],
      "text/plain": [
       "  State   County   FIPS   Total_Carbon_Emission  Pop_2000  Total_PerCapita\n",
       "0    AL  Autauga   1001                0.256167     43671         5.865829\n",
       "1    AL  Baldwin   1003                0.450031    140415         3.205008\n",
       "2    AL  Barbour   1005                0.099370     29038         3.422079\n",
       "3    AL     Bibb   1007                0.045945     20826         2.206140\n",
       "4    AL   Blount   1009                0.114776     51024         2.249456"
      ]
     },
     "execution_count": 7,
     "metadata": {},
     "output_type": "execute_result"
    }
   ],
   "source": [
    "Carbon_Emission_County.head()"
   ]
  },
  {
   "cell_type": "code",
   "execution_count": 8,
   "metadata": {
    "collapsed": false
   },
   "outputs": [],
   "source": [
    "Carbon_Emission_County.columns = ['State', 'County','FIPS','Total_Carbon_Emission','Pop_2000','Total_PerCapita']"
   ]
  },
  {
   "cell_type": "code",
   "execution_count": 9,
   "metadata": {
    "collapsed": false
   },
   "outputs": [
    {
     "name": "stdout",
     "output_type": "stream",
     "text": [
      "<type 'str'> <type 'numpy.float64'>\n"
     ]
    }
   ],
   "source": [
    "a = type(County_to_Msa['FIPS'][0])\n",
    "b = type(Carbon_Emission_County['FIPS'][0])\n",
    "print a,b"
   ]
  },
  {
   "cell_type": "code",
   "execution_count": 10,
   "metadata": {
    "collapsed": false
   },
   "outputs": [],
   "source": [
    "def canconvert(mydata):\n",
    "    try :\n",
    "        float(mydata)\n",
    "        return True\n",
    "    except ValueError:\n",
    "        return False  "
   ]
  },
  {
   "cell_type": "code",
   "execution_count": 11,
   "metadata": {
    "collapsed": false
   },
   "outputs": [],
   "source": [
    "vfunc = np.vectorize(canconvert)\n",
    "indx = vfunc(np.array(County_to_Msa['FIPS']))"
   ]
  },
  {
   "cell_type": "code",
   "execution_count": 12,
   "metadata": {
    "collapsed": false
   },
   "outputs": [
    {
     "name": "stderr",
     "output_type": "stream",
     "text": [
      "/anaconda/lib/python2.7/site-packages/ipykernel/__main__.py:1: SettingWithCopyWarning: \n",
      "A value is trying to be set on a copy of a slice from a DataFrame\n",
      "\n",
      "See the the caveats in the documentation: http://pandas.pydata.org/pandas-docs/stable/indexing.html#indexing-view-versus-copy\n",
      "  if __name__ == '__main__':\n"
     ]
    }
   ],
   "source": [
    "County_to_Msa['FIPS'][~indx] = float('NaN') "
   ]
  },
  {
   "cell_type": "code",
   "execution_count": 13,
   "metadata": {
    "collapsed": false
   },
   "outputs": [],
   "source": [
    "# Change the data type of FIPS in Carbon_Emission to string\n",
    "County_to_Msa['FIPS'] = County_to_Msa['FIPS'].astype(float)"
   ]
  },
  {
   "cell_type": "code",
   "execution_count": 14,
   "metadata": {
    "collapsed": true
   },
   "outputs": [],
   "source": [
    "# Merge two datasets based on 'FIPS' column\n",
    "Carbon_Emission = pd.merge(Carbon_Emission_County,County_to_Msa,on=['FIPS'])"
   ]
  },
  {
   "cell_type": "code",
   "execution_count": 15,
   "metadata": {
    "collapsed": false
   },
   "outputs": [],
   "source": [
    "# Drop unnessary columns\n",
    "Carbon_Emission = Carbon_Emission.drop(Carbon_Emission.columns[[0,1,2,6,7,9,10]], axis=1)"
   ]
  },
  {
   "cell_type": "code",
   "execution_count": 16,
   "metadata": {
    "collapsed": false
   },
   "outputs": [
    {
     "data": {
      "text/html": [
       "<div>\n",
       "<table border=\"1\" class=\"dataframe\">\n",
       "  <thead>\n",
       "    <tr style=\"text-align: right;\">\n",
       "      <th></th>\n",
       "      <th>Total_Carbon_Emission</th>\n",
       "      <th>Pop_2000</th>\n",
       "      <th>Total_PerCapita</th>\n",
       "      <th>CBSA_2003_Code</th>\n",
       "    </tr>\n",
       "  </thead>\n",
       "  <tbody>\n",
       "    <tr>\n",
       "      <th>0</th>\n",
       "      <td>0.256167</td>\n",
       "      <td>43671</td>\n",
       "      <td>5.865829</td>\n",
       "      <td>33860</td>\n",
       "    </tr>\n",
       "    <tr>\n",
       "      <th>1</th>\n",
       "      <td>0.450031</td>\n",
       "      <td>140415</td>\n",
       "      <td>3.205008</td>\n",
       "      <td>19300</td>\n",
       "    </tr>\n",
       "    <tr>\n",
       "      <th>2</th>\n",
       "      <td>0.099370</td>\n",
       "      <td>29038</td>\n",
       "      <td>3.422079</td>\n",
       "      <td>NaN</td>\n",
       "    </tr>\n",
       "    <tr>\n",
       "      <th>3</th>\n",
       "      <td>0.045945</td>\n",
       "      <td>20826</td>\n",
       "      <td>2.206140</td>\n",
       "      <td>13820</td>\n",
       "    </tr>\n",
       "    <tr>\n",
       "      <th>4</th>\n",
       "      <td>0.114776</td>\n",
       "      <td>51024</td>\n",
       "      <td>2.249456</td>\n",
       "      <td>13820</td>\n",
       "    </tr>\n",
       "  </tbody>\n",
       "</table>\n",
       "</div>"
      ],
      "text/plain": [
       "   Total_Carbon_Emission  Pop_2000  Total_PerCapita  CBSA_2003_Code\n",
       "0               0.256167     43671         5.865829           33860\n",
       "1               0.450031    140415         3.205008           19300\n",
       "2               0.099370     29038         3.422079             NaN\n",
       "3               0.045945     20826         2.206140           13820\n",
       "4               0.114776     51024         2.249456           13820"
      ]
     },
     "execution_count": 16,
     "metadata": {},
     "output_type": "execute_result"
    }
   ],
   "source": [
    "Carbon_Emission.head()"
   ]
  },
  {
   "cell_type": "code",
   "execution_count": 17,
   "metadata": {
    "collapsed": false
   },
   "outputs": [],
   "source": [
    "# Aggregate\n",
    "Carbon_Emission_Pop = Carbon_Emission.groupby(Carbon_Emission['CBSA_2003_Code']).sum()"
   ]
  },
  {
   "cell_type": "code",
   "execution_count": 18,
   "metadata": {
    "collapsed": true
   },
   "outputs": [],
   "source": [
    "# Select all cities with populations greater than 100,000\n",
    "Carbon_Emission_Pop = Carbon_Emission_Pop[Carbon_Emission_Pop['Pop_2000'] >= 100000]"
   ]
  },
  {
   "cell_type": "code",
   "execution_count": 64,
   "metadata": {
    "collapsed": true
   },
   "outputs": [],
   "source": [
    "Carbon_Emission_Pop['Total_PerCapita'] = Carbon_Emission_Pop['Total_Carbon_Emission']/Carbon_Emission_Pop['Pop_2000']*1000000"
   ]
  },
  {
   "cell_type": "code",
   "execution_count": 65,
   "metadata": {
    "collapsed": false
   },
   "outputs": [
    {
     "data": {
      "text/html": [
       "<div>\n",
       "<table border=\"1\" class=\"dataframe\">\n",
       "  <thead>\n",
       "    <tr style=\"text-align: right;\">\n",
       "      <th></th>\n",
       "      <th>Total_Carbon_Emission</th>\n",
       "      <th>Pop_2000</th>\n",
       "      <th>Total_PerCapita</th>\n",
       "    </tr>\n",
       "    <tr>\n",
       "      <th>CBSA_2003_Code</th>\n",
       "      <th></th>\n",
       "      <th></th>\n",
       "      <th></th>\n",
       "    </tr>\n",
       "  </thead>\n",
       "  <tbody>\n",
       "    <tr>\n",
       "      <th>10180</th>\n",
       "      <td>0.649930</td>\n",
       "      <td>160245</td>\n",
       "      <td>4.055850</td>\n",
       "    </tr>\n",
       "    <tr>\n",
       "      <th>10420</th>\n",
       "      <td>2.048257</td>\n",
       "      <td>694960</td>\n",
       "      <td>2.947302</td>\n",
       "    </tr>\n",
       "    <tr>\n",
       "      <th>10500</th>\n",
       "      <td>0.977522</td>\n",
       "      <td>157833</td>\n",
       "      <td>6.193391</td>\n",
       "    </tr>\n",
       "    <tr>\n",
       "      <th>10540</th>\n",
       "      <td>0.384084</td>\n",
       "      <td>103069</td>\n",
       "      <td>3.726471</td>\n",
       "    </tr>\n",
       "    <tr>\n",
       "      <th>10580</th>\n",
       "      <td>2.816506</td>\n",
       "      <td>825875</td>\n",
       "      <td>3.410330</td>\n",
       "    </tr>\n",
       "  </tbody>\n",
       "</table>\n",
       "</div>"
      ],
      "text/plain": [
       "                Total_Carbon_Emission  Pop_2000  Total_PerCapita\n",
       "CBSA_2003_Code                                                  \n",
       "10180                        0.649930    160245         4.055850\n",
       "10420                        2.048257    694960         2.947302\n",
       "10500                        0.977522    157833         6.193391\n",
       "10540                        0.384084    103069         3.726471\n",
       "10580                        2.816506    825875         3.410330"
      ]
     },
     "execution_count": 65,
     "metadata": {},
     "output_type": "execute_result"
    }
   ],
   "source": [
    "Carbon_Emission_Pop.head()"
   ]
  },
  {
   "cell_type": "markdown",
   "metadata": {},
   "source": [
    "### Ranking of cities by per capita emission"
   ]
  },
  {
   "cell_type": "code",
   "execution_count": 66,
   "metadata": {
    "collapsed": false
   },
   "outputs": [
    {
     "data": {
      "text/html": [
       "<div>\n",
       "<table border=\"1\" class=\"dataframe\">\n",
       "  <thead>\n",
       "    <tr style=\"text-align: right;\">\n",
       "      <th></th>\n",
       "      <th>Total_Carbon_Emission</th>\n",
       "      <th>Pop_2000</th>\n",
       "      <th>Total_PerCapita</th>\n",
       "    </tr>\n",
       "    <tr>\n",
       "      <th>CBSA_2003_Code</th>\n",
       "      <th></th>\n",
       "      <th></th>\n",
       "      <th></th>\n",
       "    </tr>\n",
       "  </thead>\n",
       "  <tbody>\n",
       "    <tr>\n",
       "      <th>22140</th>\n",
       "      <td>8.453822</td>\n",
       "      <td>113801</td>\n",
       "      <td>74.286004</td>\n",
       "    </tr>\n",
       "    <tr>\n",
       "      <th>48260</th>\n",
       "      <td>6.722961</td>\n",
       "      <td>132008</td>\n",
       "      <td>50.928439</td>\n",
       "    </tr>\n",
       "    <tr>\n",
       "      <th>22380</th>\n",
       "      <td>5.632171</td>\n",
       "      <td>116320</td>\n",
       "      <td>48.419627</td>\n",
       "    </tr>\n",
       "    <tr>\n",
       "      <th>38220</th>\n",
       "      <td>5.068528</td>\n",
       "      <td>107341</td>\n",
       "      <td>47.218939</td>\n",
       "    </tr>\n",
       "    <tr>\n",
       "      <th>31740</th>\n",
       "      <td>4.928487</td>\n",
       "      <td>108999</td>\n",
       "      <td>45.215892</td>\n",
       "    </tr>\n",
       "  </tbody>\n",
       "</table>\n",
       "</div>"
      ],
      "text/plain": [
       "                Total_Carbon_Emission  Pop_2000  Total_PerCapita\n",
       "CBSA_2003_Code                                                  \n",
       "22140                        8.453822    113801        74.286004\n",
       "48260                        6.722961    132008        50.928439\n",
       "22380                        5.632171    116320        48.419627\n",
       "38220                        5.068528    107341        47.218939\n",
       "31740                        4.928487    108999        45.215892"
      ]
     },
     "execution_count": 66,
     "metadata": {},
     "output_type": "execute_result"
    }
   ],
   "source": [
    "Carbon_Emission_Pop.sort(columns='Total_PerCapita',ascending=False).head()"
   ]
  },
  {
   "cell_type": "code",
   "execution_count": 100,
   "metadata": {
    "collapsed": false
   },
   "outputs": [
    {
     "data": {
      "text/plain": [
       "<matplotlib.axes._subplots.AxesSubplot at 0x10d1c1b10>"
      ]
     },
     "execution_count": 100,
     "metadata": {},
     "output_type": "execute_result"
    },
    {
     "data": {
      "image/png": "[encoded data removed]",
      "text/plain": [
       "<matplotlib.figure.Figure at 0x10d6f6090>"
      ]
     },
     "metadata": {},
     "output_type": "display_data"
    }
   ],
   "source": [
    "Carbon_Emission_Pop['Pop_2000'].describe()\n",
    "plt.figure()\n",
    "Carbon_Emission_Pop['Pop_2000'].plot(kind='hist')"
   ]
  },
  {
   "cell_type": "code",
   "execution_count": 101,
   "metadata": {
    "collapsed": false
   },
   "outputs": [
    {
     "data": {
      "text/plain": [
       "<matplotlib.axes._subplots.AxesSubplot at 0x10c2fbad0>"
      ]
     },
     "execution_count": 101,
     "metadata": {},
     "output_type": "execute_result"
    },
    {
     "data": {
      "image/png": "[encoded data removed]",
      "text/plain": [
       "<matplotlib.figure.Figure at 0x10e15ac50>"
      ]
     },
     "metadata": {},
     "output_type": "display_data"
    }
   ],
   "source": [
    "Carbon_Emission_Pop['Total_PerCapita'].describe()\n",
    "plt.figure()\n",
    "Carbon_Emission_Pop['Total_PerCapita'].plot(kind='hist')"
   ]
  },
  {
   "cell_type": "code",
   "execution_count": 69,
   "metadata": {
    "collapsed": true
   },
   "outputs": [],
   "source": [
    "population = Carbon_Emission_Pop['Pop_2000']\n",
    "emission_per_capita = Carbon_Emission_Pop['Total_PerCapita']"
   ]
  },
  {
   "cell_type": "code",
   "execution_count": 102,
   "metadata": {
    "collapsed": false
   },
   "outputs": [
    {
     "data": {
      "text/plain": [
       "<matplotlib.text.Text at 0x10e161810>"
      ]
     },
     "execution_count": 102,
     "metadata": {},
     "output_type": "execute_result"
    },
    {
     "data": {
      "image/png": "[encoded data removed]",
      "text/plain": [
       "<matplotlib.figure.Figure at 0x10e1ad350>"
      ]
     },
     "metadata": {},
     "output_type": "display_data"
    }
   ],
   "source": [
    "fig = plt.figure(figsize=(10,5))\n",
    "ax = fig.add_subplot(111)\n",
    "ax.scatter(population,emission_per_capita)\n",
    "ax.set_ylabel('Emission PerCapita')\n",
    "ax.set_xlabel('Population')"
   ]
  },
  {
   "cell_type": "code",
   "execution_count": 71,
   "metadata": {
    "collapsed": false
   },
   "outputs": [],
   "source": [
    "# Normalize population and emission per capita data\n",
    "X = (population-population.mean())/population.std()\n",
    "Y = (emission_per_capita - emission_per_capita.mean())/emission_per_capita.std()"
   ]
  },
  {
   "cell_type": "code",
   "execution_count": 103,
   "metadata": {
    "collapsed": false
   },
   "outputs": [
    {
     "data": {
      "text/plain": [
       "<matplotlib.text.Text at 0x10e286b10>"
      ]
     },
     "execution_count": 103,
     "metadata": {},
     "output_type": "execute_result"
    },
    {
     "data": {
      "image/png": "[encoded data removed]",
      "text/plain": [
       "<matplotlib.figure.Figure at 0x10e3dc6d0>"
      ]
     },
     "metadata": {},
     "output_type": "display_data"
    }
   ],
   "source": [
    "fig = plt.figure(figsize=(10,5))\n",
    "ax = fig.add_subplot(111)\n",
    "ax.scatter(X,Y)\n",
    "ax.set_ylabel('Emission PerCapita (norm)')\n",
    "ax.set_xlabel('Population (norm)')"
   ]
  },
  {
   "cell_type": "code",
   "execution_count": 73,
   "metadata": {
    "collapsed": false
   },
   "outputs": [
    {
     "name": "stdout",
     "output_type": "stream",
     "text": [
      "(-0.096914301009078746, 0.061505002548852522)\n"
     ]
    }
   ],
   "source": [
    "pr = scipy.stats.pearsonr(X, Y)\n",
    "print pr"
   ]
  },
  {
   "cell_type": "code",
   "execution_count": 89,
   "metadata": {
    "collapsed": true
   },
   "outputs": [],
   "source": [
    "# Use Log Scale\n",
    "X_log = np.log10(population)\n",
    "Y_log = np.log10(emission_per_capita)"
   ]
  },
  {
   "cell_type": "code",
   "execution_count": 98,
   "metadata": {
    "collapsed": false
   },
   "outputs": [
    {
     "name": "stdout",
     "output_type": "stream",
     "text": [
      "-0.0892633920394 1.17434992255\n"
     ]
    },
    {
     "data": {
      "text/plain": [
       "<matplotlib.text.Text at 0x10d1e04d0>"
      ]
     },
     "execution_count": 98,
     "metadata": {},
     "output_type": "execute_result"
    },
    {
     "data": {
      "image/png": "[encoded data removed]",
      "text/plain": [
       "<matplotlib.figure.Figure at 0x10d37c250>"
      ]
     },
     "metadata": {},
     "output_type": "display_data"
    }
   ],
   "source": [
    "model1 = sm.OLS(Y_log, sm.add_constant(X_log ), missing='drop').fit()  \n",
    "print model1.params[1], model1.params[0]\n",
    "\n",
    "fig = plt.figure(figsize=(10,5))\n",
    "ax = fig.add_subplot(111)\n",
    "ax.scatter(X_log,Y_log)\n",
    "ax.plot(X_log,X_log*model1.params[1]+model1.params[0],color='red')\n",
    "ax.set_ylabel('Emission PerCapita (log)')\n",
    "ax.set_xlabel('Population (log)')"
   ]
  },
  {
   "cell_type": "code",
   "execution_count": 94,
   "metadata": {
    "collapsed": false
   },
   "outputs": [
    {
     "data": {
      "text/html": [
       "<table class=\"simpletable\">\n",
       "<caption>OLS Regression Results</caption>\n",
       "<tr>\n",
       "  <th>Dep. Variable:</th>     <td>Total_PerCapita</td> <th>  R-squared:         </th> <td>   0.018</td>\n",
       "</tr>\n",
       "<tr>\n",
       "  <th>Model:</th>                   <td>OLS</td>       <th>  Adj. R-squared:    </th> <td>   0.015</td>\n",
       "</tr>\n",
       "<tr>\n",
       "  <th>Method:</th>             <td>Least Squares</td>  <th>  F-statistic:       </th> <td>   6.751</td>\n",
       "</tr>\n",
       "<tr>\n",
       "  <th>Date:</th>             <td>Sat, 14 Nov 2015</td> <th>  Prob (F-statistic):</th>  <td>0.00974</td>\n",
       "</tr>\n",
       "<tr>\n",
       "  <th>Time:</th>                 <td>21:22:34</td>     <th>  Log-Likelihood:    </th> <td> -69.660</td>\n",
       "</tr>\n",
       "<tr>\n",
       "  <th>No. Observations:</th>      <td>   373</td>      <th>  AIC:               </th> <td>   143.3</td>\n",
       "</tr>\n",
       "<tr>\n",
       "  <th>Df Residuals:</th>          <td>   371</td>      <th>  BIC:               </th> <td>   151.2</td>\n",
       "</tr>\n",
       "<tr>\n",
       "  <th>Df Model:</th>              <td>     1</td>      <th>                     </th>     <td> </td>   \n",
       "</tr>\n",
       "<tr>\n",
       "  <th>Covariance Type:</th>      <td>nonrobust</td>    <th>                     </th>     <td> </td>   \n",
       "</tr>\n",
       "</table>\n",
       "<table class=\"simpletable\">\n",
       "<tr>\n",
       "      <td></td>        <th>coef</th>     <th>std err</th>      <th>t</th>      <th>P>|t|</th> <th>[95.0% Conf. Int.]</th> \n",
       "</tr>\n",
       "<tr>\n",
       "  <th>const</th>    <td>    1.1743</td> <td>    0.188</td> <td>    6.230</td> <td> 0.000</td> <td>    0.804     1.545</td>\n",
       "</tr>\n",
       "<tr>\n",
       "  <th>Pop_2000</th> <td>   -0.0893</td> <td>    0.034</td> <td>   -2.598</td> <td> 0.010</td> <td>   -0.157    -0.022</td>\n",
       "</tr>\n",
       "</table>\n",
       "<table class=\"simpletable\">\n",
       "<tr>\n",
       "  <th>Omnibus:</th>       <td>86.637</td> <th>  Durbin-Watson:     </th> <td>   1.989</td>\n",
       "</tr>\n",
       "<tr>\n",
       "  <th>Prob(Omnibus):</th> <td> 0.000</td> <th>  Jarque-Bera (JB):  </th> <td> 152.275</td>\n",
       "</tr>\n",
       "<tr>\n",
       "  <th>Skew:</th>          <td> 1.325</td> <th>  Prob(JB):          </th> <td>8.59e-34</td>\n",
       "</tr>\n",
       "<tr>\n",
       "  <th>Kurtosis:</th>      <td> 4.666</td> <th>  Cond. No.          </th> <td>    70.6</td>\n",
       "</tr>\n",
       "</table>"
      ],
      "text/plain": [
       "<class 'statsmodels.iolib.summary.Summary'>\n",
       "\"\"\"\n",
       "                            OLS Regression Results                            \n",
       "==============================================================================\n",
       "Dep. Variable:        Total_PerCapita   R-squared:                       0.018\n",
       "Model:                            OLS   Adj. R-squared:                  0.015\n",
       "Method:                 Least Squares   F-statistic:                     6.751\n",
       "Date:                Sat, 14 Nov 2015   Prob (F-statistic):            0.00974\n",
       "Time:                        21:22:34   Log-Likelihood:                -69.660\n",
       "No. Observations:                 373   AIC:                             143.3\n",
       "Df Residuals:                     371   BIC:                             151.2\n",
       "Df Model:                           1                                         \n",
       "Covariance Type:            nonrobust                                         \n",
       "==============================================================================\n",
       "                 coef    std err          t      P>|t|      [95.0% Conf. Int.]\n",
       "------------------------------------------------------------------------------\n",
       "const          1.1743      0.188      6.230      0.000         0.804     1.545\n",
       "Pop_2000      -0.0893      0.034     -2.598      0.010        -0.157    -0.022\n",
       "==============================================================================\n",
       "Omnibus:                       86.637   Durbin-Watson:                   1.989\n",
       "Prob(Omnibus):                  0.000   Jarque-Bera (JB):              152.275\n",
       "Skew:                           1.325   Prob(JB):                     8.59e-34\n",
       "Kurtosis:                       4.666   Cond. No.                         70.6\n",
       "==============================================================================\n",
       "\n",
       "Warnings:\n",
       "[1] Standard Errors assume that the covariance matrix of the errors is correctly specified.\n",
       "\"\"\""
      ]
     },
     "execution_count": 94,
     "metadata": {},
     "output_type": "execute_result"
    }
   ],
   "source": [
    "model1.summary()"
   ]
  },
  {
   "cell_type": "markdown",
   "metadata": {},
   "source": [
    "## Result:\n",
    "### The Pearson correlation efficient shows that there is no correlation between city population size and carbon emission per capita even after normalizing them by the log scale. The r-squared of linear regression model to fit the data of population and carbon emission per capita is only 0.018."
   ]
  },
  {
   "cell_type": "code",
   "execution_count": 95,
   "metadata": {
    "collapsed": false
   },
   "outputs": [],
   "source": [
    "# Second Degree Curve: log(Population) vs log(Emission PerCapita)\n",
    "df_notnan = Carbon_Emission_Pop.dropna(axis=0)\n",
    "curvemodel = smf.ols(formula = \"y ~ x + I((x)) + I((x)**2) \", \n",
    "        data={'x':np.log(df_notnan['Pop_2000']),'y':np.log(df_notnan['Total_PerCapita']) })\n",
    "model2 = curvemodel.fit()"
   ]
  },
  {
   "cell_type": "code",
   "execution_count": 96,
   "metadata": {
    "collapsed": false
   },
   "outputs": [
    {
     "data": {
      "text/plain": [
       "<matplotlib.text.Text at 0x10ac99550>"
      ]
     },
     "execution_count": 96,
     "metadata": {},
     "output_type": "execute_result"
    },
    {
     "data": {
      "image/png": "[encoded data removed]",
      "text/plain": [
       "<matplotlib.figure.Figure at 0x10c150150>"
      ]
     },
     "metadata": {},
     "output_type": "display_data"
    }
   ],
   "source": [
    "fig = plt.figure()\n",
    "ax = fig.add_subplot(111)\n",
    "ax.scatter(X_log,Y_log)\n",
    "ax.plot(X_log, model2.predict(),'k.',c='r')\n",
    "ax.set_ylabel('Emission PerCapita (log)')\n",
    "ax.set_xlabel('Population (log)')"
   ]
  },
  {
   "cell_type": "markdown",
   "metadata": {},
   "source": [
    "### Then I split the cities into two groups, which are surburbs and metropolitans based on the definition that cities which have population larger than one million are metropolis."
   ]
  },
  {
   "cell_type": "code",
   "execution_count": 104,
   "metadata": {
    "collapsed": true
   },
   "outputs": [],
   "source": [
    "# Split the dataset into surburbs and metropolis  (pop = 1m)\n",
    "# Select all cities with populations greater than 1,000,000\n",
    "metropoli = Carbon_Emission_Pop[Carbon_Emission_Pop['Pop_2000'] >= 1000000]\n",
    "surburb = Carbon_Emission_Pop[Carbon_Emission_Pop['Pop_2000'] < 1000000]"
   ]
  },
  {
   "cell_type": "code",
   "execution_count": 109,
   "metadata": {
    "collapsed": false
   },
   "outputs": [
    {
     "name": "stdout",
     "output_type": "stream",
     "text": [
      "-0.211509016055 4.54662937979\n"
     ]
    },
    {
     "data": {
      "text/plain": [
       "<matplotlib.text.Text at 0x10e833c90>"
      ]
     },
     "execution_count": 109,
     "metadata": {},
     "output_type": "execute_result"
    },
    {
     "data": {
      "image/png": "[encoded data removed]",
      "text/plain": [
       "<matplotlib.figure.Figure at 0x10e91b190>"
      ]
     },
     "metadata": {},
     "output_type": "display_data"
    }
   ],
   "source": [
    "pop1 = np.log(metropoli['Pop_2000'])\n",
    "emission1 = np.log(metropoli['Total_PerCapita'])\n",
    "\n",
    "model3 = sm.OLS(emission1, sm.add_constant(pop1), missing='drop').fit()  \n",
    "print model3.params[1], model3.params[0]\n",
    "\n",
    "fig = plt.figure(figsize=(10,5))\n",
    "ax = fig.add_subplot(111)\n",
    "ax.plot(pop1,pop1*model3.params[1]+model3.params[0],color='red')\n",
    "ax.scatter(pop1,emission1)\n",
    "ax.set_title(\"Metropolitans\")\n",
    "ax.set_ylabel('Emission PerCapita(log)')\n",
    "ax.set_xlabel('Population(log)')"
   ]
  },
  {
   "cell_type": "code",
   "execution_count": 110,
   "metadata": {
    "collapsed": false
   },
   "outputs": [
    {
     "data": {
      "text/html": [
       "<table class=\"simpletable\">\n",
       "<caption>OLS Regression Results</caption>\n",
       "<tr>\n",
       "  <th>Dep. Variable:</th>     <td>Total_PerCapita</td> <th>  R-squared:         </th> <td>   0.117</td>\n",
       "</tr>\n",
       "<tr>\n",
       "  <th>Model:</th>                   <td>OLS</td>       <th>  Adj. R-squared:    </th> <td>   0.098</td>\n",
       "</tr>\n",
       "<tr>\n",
       "  <th>Method:</th>             <td>Least Squares</td>  <th>  F-statistic:       </th> <td>   6.241</td>\n",
       "</tr>\n",
       "<tr>\n",
       "  <th>Date:</th>             <td>Sat, 14 Nov 2015</td> <th>  Prob (F-statistic):</th>  <td>0.0160</td> \n",
       "</tr>\n",
       "<tr>\n",
       "  <th>Time:</th>                 <td>21:45:38</td>     <th>  Log-Likelihood:    </th> <td> -22.857</td>\n",
       "</tr>\n",
       "<tr>\n",
       "  <th>No. Observations:</th>      <td>    49</td>      <th>  AIC:               </th> <td>   49.71</td>\n",
       "</tr>\n",
       "<tr>\n",
       "  <th>Df Residuals:</th>          <td>    47</td>      <th>  BIC:               </th> <td>   53.50</td>\n",
       "</tr>\n",
       "<tr>\n",
       "  <th>Df Model:</th>              <td>     1</td>      <th>                     </th>     <td> </td>   \n",
       "</tr>\n",
       "<tr>\n",
       "  <th>Covariance Type:</th>      <td>nonrobust</td>    <th>                     </th>     <td> </td>   \n",
       "</tr>\n",
       "</table>\n",
       "<table class=\"simpletable\">\n",
       "<tr>\n",
       "      <td></td>        <th>coef</th>     <th>std err</th>      <th>t</th>      <th>P>|t|</th> <th>[95.0% Conf. Int.]</th> \n",
       "</tr>\n",
       "<tr>\n",
       "  <th>const</th>    <td>    4.5466</td> <td>    1.242</td> <td>    3.660</td> <td> 0.001</td> <td>    2.048     7.045</td>\n",
       "</tr>\n",
       "<tr>\n",
       "  <th>Pop_2000</th> <td>   -0.2115</td> <td>    0.085</td> <td>   -2.498</td> <td> 0.016</td> <td>   -0.382    -0.041</td>\n",
       "</tr>\n",
       "</table>\n",
       "<table class=\"simpletable\">\n",
       "<tr>\n",
       "  <th>Omnibus:</th>       <td> 3.324</td> <th>  Durbin-Watson:     </th> <td>   2.129</td>\n",
       "</tr>\n",
       "<tr>\n",
       "  <th>Prob(Omnibus):</th> <td> 0.190</td> <th>  Jarque-Bera (JB):  </th> <td>   2.991</td>\n",
       "</tr>\n",
       "<tr>\n",
       "  <th>Skew:</th>          <td> 0.523</td> <th>  Prob(JB):          </th> <td>   0.224</td>\n",
       "</tr>\n",
       "<tr>\n",
       "  <th>Kurtosis:</th>      <td> 2.390</td> <th>  Cond. No.          </th> <td>    325.</td>\n",
       "</tr>\n",
       "</table>"
      ],
      "text/plain": [
       "<class 'statsmodels.iolib.summary.Summary'>\n",
       "\"\"\"\n",
       "                            OLS Regression Results                            \n",
       "==============================================================================\n",
       "Dep. Variable:        Total_PerCapita   R-squared:                       0.117\n",
       "Model:                            OLS   Adj. R-squared:                  0.098\n",
       "Method:                 Least Squares   F-statistic:                     6.241\n",
       "Date:                Sat, 14 Nov 2015   Prob (F-statistic):             0.0160\n",
       "Time:                        21:45:38   Log-Likelihood:                -22.857\n",
       "No. Observations:                  49   AIC:                             49.71\n",
       "Df Residuals:                      47   BIC:                             53.50\n",
       "Df Model:                           1                                         \n",
       "Covariance Type:            nonrobust                                         \n",
       "==============================================================================\n",
       "                 coef    std err          t      P>|t|      [95.0% Conf. Int.]\n",
       "------------------------------------------------------------------------------\n",
       "const          4.5466      1.242      3.660      0.001         2.048     7.045\n",
       "Pop_2000      -0.2115      0.085     -2.498      0.016        -0.382    -0.041\n",
       "==============================================================================\n",
       "Omnibus:                        3.324   Durbin-Watson:                   2.129\n",
       "Prob(Omnibus):                  0.190   Jarque-Bera (JB):                2.991\n",
       "Skew:                           0.523   Prob(JB):                        0.224\n",
       "Kurtosis:                       2.390   Cond. No.                         325.\n",
       "==============================================================================\n",
       "\n",
       "Warnings:\n",
       "[1] Standard Errors assume that the covariance matrix of the errors is correctly specified.\n",
       "\"\"\""
      ]
     },
     "execution_count": 110,
     "metadata": {},
     "output_type": "execute_result"
    }
   ],
   "source": [
    "model3.summary()"
   ]
  },
  {
   "cell_type": "code",
   "execution_count": 111,
   "metadata": {
    "collapsed": false
   },
   "outputs": [
    {
     "name": "stdout",
     "output_type": "stream",
     "text": [
      "-0.116133663895 3.02630699643\n"
     ]
    },
    {
     "data": {
      "text/plain": [
       "<matplotlib.text.Text at 0x10e822610>"
      ]
     },
     "execution_count": 111,
     "metadata": {},
     "output_type": "execute_result"
    },
    {
     "data": {
      "image/png": "[encoded data removed]",
      "text/plain": [
       "<matplotlib.figure.Figure at 0x10e9aefd0>"
      ]
     },
     "metadata": {},
     "output_type": "display_data"
    }
   ],
   "source": [
    "pop2 = np.log(surburb['Pop_2000'])\n",
    "emission2 = np.log(surburb['Total_PerCapita'])\n",
    "\n",
    "model4 = sm.OLS(emission2, sm.add_constant(pop2), missing='drop').fit()  \n",
    "print model4.params[1], model4.params[0]\n",
    "\n",
    "fig = plt.figure(figsize=(10,5))\n",
    "ax = fig.add_subplot(111)\n",
    "ax.plot(pop2,pop2*model4.params[1]+model4.params[0],color='red')\n",
    "ax.scatter(pop2,emission2)\n",
    "ax.set_title(\"Surburb\")\n",
    "ax.set_ylabel('Emission PerCapita(log)')\n",
    "ax.set_xlabel('Population(log)')"
   ]
  },
  {
   "cell_type": "code",
   "execution_count": 112,
   "metadata": {
    "collapsed": false
   },
   "outputs": [
    {
     "data": {
      "text/html": [
       "<table class=\"simpletable\">\n",
       "<caption>OLS Regression Results</caption>\n",
       "<tr>\n",
       "  <th>Dep. Variable:</th>     <td>Total_PerCapita</td> <th>  R-squared:         </th> <td>   0.010</td>\n",
       "</tr>\n",
       "<tr>\n",
       "  <th>Model:</th>                   <td>OLS</td>       <th>  Adj. R-squared:    </th> <td>   0.007</td>\n",
       "</tr>\n",
       "<tr>\n",
       "  <th>Method:</th>             <td>Least Squares</td>  <th>  F-statistic:       </th> <td>   3.315</td>\n",
       "</tr>\n",
       "<tr>\n",
       "  <th>Date:</th>             <td>Sat, 14 Nov 2015</td> <th>  Prob (F-statistic):</th>  <td>0.0696</td> \n",
       "</tr>\n",
       "<tr>\n",
       "  <th>Time:</th>                 <td>21:47:49</td>     <th>  Log-Likelihood:    </th> <td> -345.81</td>\n",
       "</tr>\n",
       "<tr>\n",
       "  <th>No. Observations:</th>      <td>   324</td>      <th>  AIC:               </th> <td>   695.6</td>\n",
       "</tr>\n",
       "<tr>\n",
       "  <th>Df Residuals:</th>          <td>   322</td>      <th>  BIC:               </th> <td>   703.2</td>\n",
       "</tr>\n",
       "<tr>\n",
       "  <th>Df Model:</th>              <td>     1</td>      <th>                     </th>     <td> </td>   \n",
       "</tr>\n",
       "<tr>\n",
       "  <th>Covariance Type:</th>      <td>nonrobust</td>    <th>                     </th>     <td> </td>   \n",
       "</tr>\n",
       "</table>\n",
       "<table class=\"simpletable\">\n",
       "<tr>\n",
       "      <td></td>        <th>coef</th>     <th>std err</th>      <th>t</th>      <th>P>|t|</th> <th>[95.0% Conf. Int.]</th> \n",
       "</tr>\n",
       "<tr>\n",
       "  <th>const</th>    <td>    3.0263</td> <td>    0.784</td> <td>    3.859</td> <td> 0.000</td> <td>    1.483     4.569</td>\n",
       "</tr>\n",
       "<tr>\n",
       "  <th>Pop_2000</th> <td>   -0.1161</td> <td>    0.064</td> <td>   -1.821</td> <td> 0.070</td> <td>   -0.242     0.009</td>\n",
       "</tr>\n",
       "</table>\n",
       "<table class=\"simpletable\">\n",
       "<tr>\n",
       "  <th>Omnibus:</th>       <td>73.225</td> <th>  Durbin-Watson:     </th> <td>   1.889</td>\n",
       "</tr>\n",
       "<tr>\n",
       "  <th>Prob(Omnibus):</th> <td> 0.000</td> <th>  Jarque-Bera (JB):  </th> <td> 121.347</td>\n",
       "</tr>\n",
       "<tr>\n",
       "  <th>Skew:</th>          <td> 1.320</td> <th>  Prob(JB):          </th> <td>4.46e-27</td>\n",
       "</tr>\n",
       "<tr>\n",
       "  <th>Kurtosis:</th>      <td> 4.421</td> <th>  Cond. No.          </th> <td>    248.</td>\n",
       "</tr>\n",
       "</table>"
      ],
      "text/plain": [
       "<class 'statsmodels.iolib.summary.Summary'>\n",
       "\"\"\"\n",
       "                            OLS Regression Results                            \n",
       "==============================================================================\n",
       "Dep. Variable:        Total_PerCapita   R-squared:                       0.010\n",
       "Model:                            OLS   Adj. R-squared:                  0.007\n",
       "Method:                 Least Squares   F-statistic:                     3.315\n",
       "Date:                Sat, 14 Nov 2015   Prob (F-statistic):             0.0696\n",
       "Time:                        21:47:49   Log-Likelihood:                -345.81\n",
       "No. Observations:                 324   AIC:                             695.6\n",
       "Df Residuals:                     322   BIC:                             703.2\n",
       "Df Model:                           1                                         \n",
       "Covariance Type:            nonrobust                                         \n",
       "==============================================================================\n",
       "                 coef    std err          t      P>|t|      [95.0% Conf. Int.]\n",
       "------------------------------------------------------------------------------\n",
       "const          3.0263      0.784      3.859      0.000         1.483     4.569\n",
       "Pop_2000      -0.1161      0.064     -1.821      0.070        -0.242     0.009\n",
       "==============================================================================\n",
       "Omnibus:                       73.225   Durbin-Watson:                   1.889\n",
       "Prob(Omnibus):                  0.000   Jarque-Bera (JB):              121.347\n",
       "Skew:                           1.320   Prob(JB):                     4.46e-27\n",
       "Kurtosis:                       4.421   Cond. No.                         248.\n",
       "==============================================================================\n",
       "\n",
       "Warnings:\n",
       "[1] Standard Errors assume that the covariance matrix of the errors is correctly specified.\n",
       "\"\"\""
      ]
     },
     "execution_count": 112,
     "metadata": {},
     "output_type": "execute_result"
    }
   ],
   "source": [
    "model4.summary()"
   ]
  },
  {
   "cell_type": "markdown",
   "metadata": {},
   "source": [
    "## Results:\n",
    "### Among metropolitans, there is a trend that the denser a city is, the less carbon emission per capita it has. The coefficient is -0.2115 and the significance level of the coefficient is 0.016.However, among the surburbs, the relationship between population and carbon emission per capita is not obvious. The significant level of the coefficient is 0.07, which is more than 0.05."
   ]
  },
  {
   "cell_type": "markdown",
   "metadata": {},
   "source": [
    "# Conclusion:\n",
    "### There is not an optimal city size. Whether making a city denser will help cut its carbaon emissions or not depends on what type of city it is. If the city were a metropolitan,increasing its populatino size would help cut its carbon emission per capita. That could be explained by the economies of scale as big cities have good public transportation infrastructure.On the contrary, if the city were a surburb, increasing its population size might create more carbon footprints as a result of more private cars."
   ]
  }
 ],
 "metadata": {
  "kernelspec": {
   "display_name": "Python 2",
   "language": "python",
   "name": "python2"
  },
  "language_info": {
   "codemirror_mode": {
    "name": "ipython",
    "version": 2
   },
   "file_extension": ".py",
   "mimetype": "text/x-python",
   "name": "python",
   "nbconvert_exporter": "python",
   "pygments_lexer": "ipython2",
   "version": "2.7.10"
  }
 },
 "nbformat": 4,
 "nbformat_minor": 0
}
